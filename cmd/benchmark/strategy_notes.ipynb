{
 "cells": [
  {
   "cell_type": "code",
   "execution_count": null,
   "id": "f4da61ef",
   "metadata": {},
   "outputs": [],
   "source": [
    "import pandas as pd\n",
    "import matplotlib.pyplot as plt\n",
    "\n",
    "# Load the CSV into a DataFrame\n",
    "df = pd.read_csv(\"benchmark_results.csv\")\n",
    "\n",
    "# Split hybrid strategies by their threshold\n",
    "df['Strategy'] = df.apply(\n",
    "    lambda row: f\"{row['Strategy']} (th={row['Room-Similarity Threshold']})\" if row['Strategy'] == 'hybrid' else row['Strategy'],\n",
    "    axis=1\n",
    ")"
   ]
  },
  {
   "cell_type": "code",
   "execution_count": null,
   "id": "133e5b9d",
   "metadata": {},
   "outputs": [],
   "source": [
    "# Calculate % of correct results per strategy\n",
    "percent_correct_per_strategy = df.groupby('Strategy').apply(\n",
    "    lambda g: (g['Result'] == g['Satisfiable']).mean() * 100\n",
    ").reset_index(name='% Correct Results')\n",
    "\n",
    "# Plot % Correct Results per Strategy\n",
    "plt.figure(figsize=(8, 5))\n",
    "plt.bar(percent_correct_per_strategy['Strategy'], percent_correct_per_strategy['% Correct Results'], color='lightgreen')\n",
    "plt.xlabel('Strategies')\n",
    "plt.ylabel('Percentage (%)')\n",
    "plt.title('Percentage of Correct Results per Strategy')\n",
    "plt.grid(axis='y', linestyle='--', alpha=0.7)\n",
    "plt.tight_layout()\n",
    "plt.show()"
   ]
  },
  {
   "cell_type": "code",
   "execution_count": null,
   "id": "1b71280e",
   "metadata": {},
   "outputs": [],
   "source": [
    "# Group by strategy and calculate average-duration\n",
    "avg_duration_per_strategy = df.groupby('Strategy')['Duration(ms)'].mean().reset_index()\n",
    "\n",
    "# Plotting\n",
    "plt.figure(figsize=(8, 5))\n",
    "plt.bar(avg_duration_per_strategy['Strategy'], avg_duration_per_strategy['Duration(ms)'], color='skyblue')\n",
    "plt.xlabel('Strategies')\n",
    "plt.ylabel('Duration (milliseconds)')\n",
    "plt.title('Average Duration per Strategy')\n",
    "plt.grid(axis='y', linestyle='--', alpha=0.7)\n",
    "plt.tight_layout()\n",
    "plt.show()\n"
   ]
  },
  {
   "cell_type": "code",
   "execution_count": null,
   "id": "a1c4b443",
   "metadata": {},
   "outputs": [],
   "source": [
    "# Group by strategy and calculate average-memory\n",
    "avg_memory_per_strategy = df.groupby('Strategy')['Memory(MB)'].mean().reset_index()\n",
    "\n",
    "# Plotting\n",
    "plt.figure(figsize=(8, 5))\n",
    "plt.bar(avg_memory_per_strategy['Strategy'], avg_memory_per_strategy['Memory(MB)'], color='skyblue')\n",
    "plt.xlabel('Strategies')\n",
    "plt.ylabel('Memory (MB)')\n",
    "plt.title('Average Memory used per Strategy')\n",
    "plt.grid(axis='y', linestyle='--', alpha=0.7)\n",
    "plt.tight_layout()\n",
    "plt.show()"
   ]
  },
  {
   "cell_type": "code",
   "execution_count": null,
   "id": "2ea102cd",
   "metadata": {},
   "outputs": [],
   "source": [
    "# Group by strategy and calculate average-cpu(%)\n",
    "avg_cpu_per_strategy = df.groupby('Strategy')['CPU(%)'].mean().reset_index()\n",
    "\n",
    "# Plotting\n",
    "plt.figure(figsize=(8, 5))\n",
    "plt.bar(avg_cpu_per_strategy['Strategy'], avg_cpu_per_strategy['CPU(%)'], color='skyblue')\n",
    "plt.xlabel('Strategies')\n",
    "plt.ylabel('CPU (%)')\n",
    "plt.title('Average CPU(%) used per Strategy')\n",
    "plt.grid(axis='y', linestyle='--', alpha=0.7)\n",
    "plt.tight_layout()\n",
    "plt.show()"
   ]
  },
  {
   "cell_type": "code",
   "execution_count": null,
   "id": "0f519353",
   "metadata": {},
   "outputs": [],
   "source": [
    "# Group by strategy and calculate average-variables\n",
    "avg_cpu_per_strategy = df.groupby('Strategy')['Variables'].mean().reset_index()\n",
    "\n",
    "# Plotting\n",
    "plt.figure(figsize=(8, 5))\n",
    "plt.bar(avg_cpu_per_strategy['Strategy'], avg_cpu_per_strategy['Variables'], color='skyblue')\n",
    "plt.xlabel('Strategies')\n",
    "plt.ylabel('Variables')\n",
    "plt.title('Average Variables used per Strategy')\n",
    "plt.grid(axis='y', linestyle='--', alpha=0.7)\n",
    "plt.ticklabel_format(style='plain', axis='y')\n",
    "plt.tight_layout()\n",
    "plt.show()"
   ]
  },
  {
   "cell_type": "code",
   "execution_count": null,
   "id": "9e180e10",
   "metadata": {},
   "outputs": [],
   "source": [
    "# Group by strategy and calculate average-clauses\n",
    "avg_cpu_per_strategy = df.groupby('Strategy')['Clauses'].mean().reset_index()\n",
    "\n",
    "# Plotting\n",
    "plt.figure(figsize=(8, 5))\n",
    "plt.bar(avg_cpu_per_strategy['Strategy'], avg_cpu_per_strategy['Clauses'], color='skyblue')\n",
    "plt.xlabel('Strategies')\n",
    "plt.ylabel('Clauses')\n",
    "plt.title('Average Clauses used per Strategy')\n",
    "plt.grid(axis='y', linestyle='--', alpha=0.7)\n",
    "plt.ticklabel_format(style='plain', axis='y')\n",
    "plt.tight_layout()\n",
    "plt.show()"
   ]
  },
  {
   "cell_type": "code",
   "execution_count": null,
   "id": "a46c5044",
   "metadata": {},
   "outputs": [],
   "source": [
    "duration_agg_dict = {\n",
    "    'mean': ('Duration(ms)', 'mean'),\n",
    "    'std': ('Duration(ms)', 'std'),\n",
    "    'min': ('Duration(ms)', 'min'),\n",
    "    'max': ('Duration(ms)', 'max'),\n",
    "    '25%': ('Duration(ms)', lambda x: x.quantile(0.25)),\n",
    "    '50%': ('Duration(ms)', lambda x: x.quantile(0.5)),\n",
    "    '75%': ('Duration(ms)', lambda x: x.quantile(0.75)),\n",
    "}\n",
    "\n",
    "duration_stats = df.groupby('Strategy').agg(**duration_agg_dict).reset_index()\n",
    "duration_stats\n",
    "\n",
    "# # Export to latex\n",
    "# duration_latex_table = duration_stats.to_latex(index=False, float_format=\"%.2f\")\n",
    "# print(duration_latex_table)"
   ]
  },
  {
   "cell_type": "code",
   "execution_count": null,
   "id": "69a72f81",
   "metadata": {},
   "outputs": [],
   "source": [
    "memory_agg_dict = {\n",
    "    'mean': ('Memory(MB)', 'mean'),\n",
    "    'std': ('Memory(MB)', 'std'),\n",
    "    'min': ('Memory(MB)', 'min'),\n",
    "    'max': ('Memory(MB)', 'max'),\n",
    "    '25%': ('Memory(MB)', lambda x: x.quantile(0.25)),\n",
    "    '50%': ('Memory(MB)', lambda x: x.quantile(0.5)),\n",
    "    '75%': ('Memory(MB)', lambda x: x.quantile(0.75)),\n",
    "}\n",
    "\n",
    "memory_stats = df.groupby('Strategy').agg(**memory_agg_dict).reset_index()\n",
    "memory_stats\n",
    "# # Export to latex\n",
    "# memory_latex_table = memory_stats.to_latex(index=False, float_format=\"%.2f\")\n",
    "# print(memory_latex_table)"
   ]
  },
  {
   "cell_type": "code",
   "execution_count": null,
   "id": "3c7de6ac",
   "metadata": {},
   "outputs": [],
   "source": [
    "cpu_agg_dict = {\n",
    "    'mean': ('CPU(%)', 'mean'),\n",
    "    'std': ('CPU(%)', 'std'),\n",
    "    'min': ('CPU(%)', 'min'),\n",
    "    'max': ('CPU(%)', 'max'),\n",
    "    '25%': ('CPU(%)', lambda x: x.quantile(0.25)),\n",
    "    '50%': ('CPU(%)', lambda x: x.quantile(0.5)),\n",
    "    '75%': ('CPU(%)', lambda x: x.quantile(0.75)),\n",
    "}\n",
    "\n",
    "cpu_stats = df.groupby('Strategy').agg(**cpu_agg_dict).reset_index()\n",
    "cpu_stats\n",
    "# # Export to latex\n",
    "# cpu_latex_table = cpu_stats.to_latex(index=False, float_format=\"%.2f\")\n",
    "# print(cpu_latex_table)"
   ]
  }
 ],
 "metadata": {
  "kernelspec": {
   "display_name": "Python 3",
   "language": "python",
   "name": "python3"
  },
  "language_info": {
   "codemirror_mode": {
    "name": "ipython",
    "version": 3
   },
   "file_extension": ".py",
   "mimetype": "text/x-python",
   "name": "python",
   "nbconvert_exporter": "python",
   "pygments_lexer": "ipython3",
   "version": "3.10.12"
  }
 },
 "nbformat": 4,
 "nbformat_minor": 5
}
