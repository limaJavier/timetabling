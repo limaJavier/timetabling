{
 "cells": [
  {
   "cell_type": "code",
   "execution_count": null,
   "id": "d15a0f8d",
   "metadata": {},
   "outputs": [],
   "source": [
    "import pandas as pd\n",
    "import matplotlib.pyplot as plt\n",
    "\n",
    "# Load the CSV into a DataFrame\n",
    "df = pd.read_csv(\"benchmark_results.csv\")"
   ]
  },
  {
   "cell_type": "code",
   "execution_count": null,
   "id": "a025c611",
   "metadata": {},
   "outputs": [],
   "source": [
    "assert (df.loc[df['Result'] == 'verification-failed', 'Satisfiable'] == False).all(), \\\n",
    "    \"There are rows with 'verification-failed' where Satisfiable is not False\"\n",
    "\n",
    "df.loc[df['Result'] == 'verification-failed', 'Result'] = 'satisfiable'"
   ]
  },
  {
   "cell_type": "code",
   "execution_count": null,
   "id": "df8f8be8",
   "metadata": {},
   "outputs": [],
   "source": [
    "# Calculate % of correct results per solver, excluding 'verification-failed'\n",
    "percent_correct_per_solver = (\n",
    "    df[df['Result'] != 'verification-failed']\n",
    "    .groupby('Solver')\n",
    "    .apply(\n",
    "        lambda g: (\n",
    "            ((g['Result'] == 'satisfiable') & (g['Satisfiable'] == True)) |\n",
    "            ((g['Result'] == 'unsatisfiable') & (g['Satisfiable'] == False))\n",
    "        ).mean() * 100\n",
    "    )\n",
    "    .reset_index(name='% Correct Results')\n",
    ")\n",
    "\n",
    "# Plotting\n",
    "plt.figure(figsize=(14, 5))\n",
    "for i, v in enumerate(percent_correct_per_solver['% Correct Results']):\n",
    "    plt.text(i, v + 1, f\"{v:.1f}%\", ha='center', va='bottom', fontsize=10)\n",
    "plt.bar(percent_correct_per_solver['Solver'], percent_correct_per_solver['% Correct Results'], color='lightgreen')\n",
    "plt.xlabel('Solvers')\n",
    "plt.ylabel('Percentage (%)')\n",
    "plt.title('Percentage of Correct Results per Solver')\n",
    "plt.grid(axis='y', linestyle='--', alpha=0.7)\n",
    "plt.tight_layout()\n",
    "plt.show()"
   ]
  },
  {
   "cell_type": "code",
   "execution_count": null,
   "id": "4125e399",
   "metadata": {},
   "outputs": [],
   "source": [
    "# Calculate % correct for each (Solver, Satisfiable) group\n",
    "percent_correct = (\n",
    "    df[df['Result'] != 'verification-failed']\n",
    "    .groupby(['Solver', 'Satisfiable'])\n",
    "    .apply(\n",
    "        lambda g: (\n",
    "            ((g['Result'] == 'satisfiable') & (g['Satisfiable'] == True)) |\n",
    "            ((g['Result'] == 'unsatisfiable') & (g['Satisfiable'] == False))\n",
    "        ).mean() * 100\n",
    "    )\n",
    "    .reset_index(name='% Correct Results')\n",
    ")\n",
    "\n",
    "# Pivot for plotting\n",
    "pivot = percent_correct.pivot(index='Solver', columns='Satisfiable', values='% Correct Results')\n",
    "\n",
    "# Plot\n",
    "pivot.plot(kind='bar', figsize=(14, 5), color=[\"#6797FF\", \"#FF7575\"])\n",
    "plt.xlabel('Strategies')\n",
    "plt.ylabel('Percentage (%)')\n",
    "plt.title('Percentage of Correct Results per Solver (by Satisfiable)')\n",
    "plt.legend(['Unsatisfiable', 'Satisfiable'])\n",
    "plt.grid(axis='y', linestyle='--', alpha=0.7)\n",
    "plt.tight_layout()\n",
    "plt.show()"
   ]
  },
  {
   "cell_type": "code",
   "execution_count": null,
   "id": "6ec28c30",
   "metadata": {},
   "outputs": [],
   "source": [
    "# Group by solver and calculate the average duration\n",
    "avg_duration_per_solver = df.groupby('Solver')['Duration(ms)'].mean().reset_index()\n",
    "\n",
    "# Plotting\n",
    "plt.figure(figsize=(14, 5))\n",
    "plt.bar(avg_duration_per_solver['Solver'], avg_duration_per_solver['Duration(ms)'], color='skyblue')\n",
    "plt.xlabel('Solvers')\n",
    "plt.ylabel('Average Duration (milliseconds)')\n",
    "plt.title('Average Duration per Solver')\n",
    "plt.grid(axis='y', linestyle='--', alpha=0.7)\n",
    "plt.tight_layout()\n",
    "plt.show()"
   ]
  },
  {
   "cell_type": "code",
   "execution_count": null,
   "id": "16471bd5",
   "metadata": {},
   "outputs": [],
   "source": [
    "# Group by solver and calculate the average memory\n",
    "avg_duration_per_solver = df.groupby('Solver')['Memory(MB)'].mean().reset_index()\n",
    "\n",
    "# Plotting\n",
    "plt.figure(figsize=(14, 5))\n",
    "plt.bar(avg_duration_per_solver['Solver'], avg_duration_per_solver['Memory(MB)'], color='skyblue')\n",
    "plt.xlabel('Solvers')\n",
    "plt.ylabel('Memory (MB)')\n",
    "plt.title('Average Memory used per Solver')\n",
    "plt.grid(axis='y', linestyle='--', alpha=0.7)\n",
    "plt.tight_layout()\n",
    "plt.show()"
   ]
  },
  {
   "cell_type": "code",
   "execution_count": null,
   "id": "ffccc2a5",
   "metadata": {},
   "outputs": [],
   "source": [
    "# Group by solver and calculate the average cpu(%)\n",
    "avg_cpu_per_solver = df.groupby('Solver')['CPU(%)'].mean().reset_index()\n",
    "\n",
    "# Plotting\n",
    "plt.figure(figsize=(14, 5))\n",
    "plt.bar(avg_cpu_per_solver['Solver'], avg_cpu_per_solver['CPU(%)'], color='skyblue')\n",
    "plt.xlabel('Solvers')\n",
    "plt.ylabel('CPU (%)')\n",
    "plt.title('Average CPU(%) used per Solver')\n",
    "plt.grid(axis='y', linestyle='--', alpha=0.7)\n",
    "plt.tight_layout()\n",
    "plt.show()"
   ]
  },
  {
   "cell_type": "code",
   "execution_count": null,
   "id": "9acf9686",
   "metadata": {},
   "outputs": [],
   "source": [
    "duration_agg_dict = {\n",
    "    'mean': ('Duration(ms)', 'mean'),\n",
    "    'std': ('Duration(ms)', 'std'),\n",
    "    'min': ('Duration(ms)', 'min'),\n",
    "    'max': ('Duration(ms)', 'max'),\n",
    "    '25%': ('Duration(ms)', lambda x: x.quantile(0.25)),\n",
    "    '50%': ('Duration(ms)', lambda x: x.quantile(0.5)),\n",
    "    '75%': ('Duration(ms)', lambda x: x.quantile(0.75)),\n",
    "}\n",
    "\n",
    "duration_stats = df.groupby('Solver').agg(**duration_agg_dict).reset_index()\n",
    "duration_stats\n",
    "\n",
    "# # Export to latex\n",
    "# duration_latex_table = duration_stats.to_latex(index=False, float_format=\"%.2f\")\n",
    "# print(duration_latex_table)"
   ]
  },
  {
   "cell_type": "code",
   "execution_count": null,
   "id": "cd7364cf",
   "metadata": {},
   "outputs": [],
   "source": [
    "memory_agg_dict = {\n",
    "    'mean': ('Memory(MB)', 'mean'),\n",
    "    'std': ('Memory(MB)', 'std'),\n",
    "    'min': ('Memory(MB)', 'min'),\n",
    "    'max': ('Memory(MB)', 'max'),\n",
    "    '25%': ('Memory(MB)', lambda x: x.quantile(0.25)),\n",
    "    '50%': ('Memory(MB)', lambda x: x.quantile(0.5)),\n",
    "    '75%': ('Memory(MB)', lambda x: x.quantile(0.75)),\n",
    "}\n",
    "\n",
    "memory_stats = df.groupby('Solver').agg(**memory_agg_dict).reset_index()\n",
    "memory_stats\n",
    "# # Export to latex\n",
    "# memory_latex_table = memory_stats.to_latex(index=False, float_format=\"%.2f\")\n",
    "# print(memory_latex_table)"
   ]
  },
  {
   "cell_type": "code",
   "execution_count": null,
   "id": "b754ac00",
   "metadata": {},
   "outputs": [],
   "source": [
    "cpu_agg_dict = {\n",
    "    'mean': ('CPU(%)', 'mean'),\n",
    "    'std': ('CPU(%)', 'std'),\n",
    "    'min': ('CPU(%)', 'min'),\n",
    "    'max': ('CPU(%)', 'max'),\n",
    "    '25%': ('CPU(%)', lambda x: x.quantile(0.25)),\n",
    "    '50%': ('CPU(%)', lambda x: x.quantile(0.5)),\n",
    "    '75%': ('CPU(%)', lambda x: x.quantile(0.75)),\n",
    "}\n",
    "\n",
    "cpu_stats = df.groupby('Solver').agg(**cpu_agg_dict).reset_index()\n",
    "cpu_stats\n",
    "# # Export to latex\n",
    "# cpu_latex_table = cpu_stats.to_latex(index=False, float_format=\"%.2f\")\n",
    "# print(cpu_latex_table)"
   ]
  }
 ],
 "metadata": {
  "kernelspec": {
   "display_name": "Python 3",
   "language": "python",
   "name": "python3"
  },
  "language_info": {
   "codemirror_mode": {
    "name": "ipython",
    "version": 3
   },
   "file_extension": ".py",
   "mimetype": "text/x-python",
   "name": "python",
   "nbconvert_exporter": "python",
   "pygments_lexer": "ipython3",
   "version": "3.10.12"
  }
 },
 "nbformat": 4,
 "nbformat_minor": 5
}
